{
 "cells": [
  {
   "cell_type": "markdown",
   "metadata": {},
   "source": [
    "1. Tuple warm up:\n",
    "    1. Look at the code in `warmup1.py`. What do you think this `tuple` is storing? If I tell you it is storing the four suits of a standard card deck, can you tell me why it's appropriate that I use a `tuple` for this?\n",
    "    2. Run `warmup1.py`, and note what it originally prints.\n",
    "    3. Now, change the print statement to print out the 1st element in the `tuple` (e.g. `diamond`).\n",
    "    4. Now, change the print statement to print out every other element.\n",
    "    5. Why are we able to grab individual elements (or every other element) from the `tuple` just as if it is a `list`?\n",
    "    4. Now, alter it so that it prints out each of the elements, one at a time on a new line. Use a `for` loop to do this. Why are we able to use a `for` loop on the `tuple` like this?\n",
    "    5.  Now, say that I want to add a new suit to my card deck. Let's call it `gorilla` (who doesn't like a gorilla suit). How would I do this? Why can't we use `append` on a `tuple` like we can on a `list`?"
   ]
  },
  {
   "cell_type": "code",
   "execution_count": 4,
   "metadata": {},
   "outputs": [],
   "source": [
    "from IPython.core.interactiveshell import InteractiveShell\n",
    "InteractiveShell.ast_node_interactivity = \"all\""
   ]
  },
  {
   "cell_type": "code",
   "execution_count": 2,
   "metadata": {},
   "outputs": [
    {
     "name": "stdout",
     "output_type": "stream",
     "text": [
      "('diamond', 'spade')\n"
     ]
    }
   ],
   "source": [
    "# %load warmup/warmup1.py\n",
    "my_tup = ('diamond', 'club', 'spade', 'heart')\n",
    "print(my_tup[::2])\n"
   ]
  },
  {
   "cell_type": "code",
   "execution_count": 3,
   "metadata": {},
   "outputs": [],
   "source": [
    "#A\n",
    "#The tuples cannot be changed so its good to use it to store the names of the type of cards."
   ]
  },
  {
   "cell_type": "code",
   "execution_count": 12,
   "metadata": {},
   "outputs": [
    {
     "name": "stdout",
     "output_type": "stream",
     "text": [
      "diamond\n"
     ]
    }
   ],
   "source": [
    "#C\n",
    "my_tup = ('diamond', 'club', 'spade', 'heart')\n",
    "print(my_tup[0])"
   ]
  },
  {
   "cell_type": "code",
   "execution_count": 13,
   "metadata": {},
   "outputs": [
    {
     "name": "stdout",
     "output_type": "stream",
     "text": [
      "('diamond', 'club', 'spade', 'heart')\n"
     ]
    }
   ],
   "source": [
    "#D\n",
    "my_tup = ('diamond', 'club', 'spade', 'heart')\n",
    "print(my_tup[::])"
   ]
  },
  {
   "cell_type": "code",
   "execution_count": 14,
   "metadata": {},
   "outputs": [],
   "source": [
    "#E\n",
    "#Because of the indexing"
   ]
  },
  {
   "cell_type": "code",
   "execution_count": 9,
   "metadata": {},
   "outputs": [
    {
     "name": "stdout",
     "output_type": "stream",
     "text": [
      "diamond\n",
      "club\n",
      "spade\n",
      "heart\n"
     ]
    }
   ],
   "source": [
    "#F\n",
    "my_tup = ('diamond', 'club', 'spade', 'heart')\n",
    "\n",
    "for i in my_tup:\n",
    "    print(i)"
   ]
  },
  {
   "cell_type": "code",
   "execution_count": 10,
   "metadata": {},
   "outputs": [
    {
     "ename": "AttributeError",
     "evalue": "'tuple' object has no attribute 'append'",
     "output_type": "error",
     "traceback": [
      "\u001b[1;31m---------------------------------------------------------------------------\u001b[0m",
      "\u001b[1;31mAttributeError\u001b[0m                            Traceback (most recent call last)",
      "\u001b[1;32m<ipython-input-10-86287508ab5b>\u001b[0m in \u001b[0;36m<module>\u001b[1;34m\u001b[0m\n\u001b[0;32m      1\u001b[0m \u001b[1;31m#G\u001b[0m\u001b[1;33m\u001b[0m\u001b[1;33m\u001b[0m\u001b[1;33m\u001b[0m\u001b[0m\n\u001b[1;32m----> 2\u001b[1;33m \u001b[0mmy_tup\u001b[0m\u001b[1;33m.\u001b[0m\u001b[0mappend\u001b[0m\u001b[1;33m(\u001b[0m\u001b[1;34m'gorilla'\u001b[0m\u001b[1;33m)\u001b[0m\u001b[1;33m\u001b[0m\u001b[1;33m\u001b[0m\u001b[0m\n\u001b[0m\u001b[0;32m      3\u001b[0m \u001b[1;31m#Because tuples are immutable\u001b[0m\u001b[1;33m\u001b[0m\u001b[1;33m\u001b[0m\u001b[1;33m\u001b[0m\u001b[0m\n",
      "\u001b[1;31mAttributeError\u001b[0m: 'tuple' object has no attribute 'append'"
     ]
    }
   ],
   "source": [
    "#G\n",
    "my_tup.append('gorilla')\n",
    "#Because tuples are immutable"
   ]
  },
  {
   "cell_type": "markdown",
   "metadata": {},
   "source": [
    "2. Dictionary warm up:\n",
    "    1. Don't run the code yet! First, examine the code in `warmup2.py`. What do you think it will print when run? Why does it print this?\n",
    "    2. Why is it appropriate to use a dictionary in this scenario?\n",
    "    3. Okay, so you will by now have noticed what it printed. Change the `element` variable that is storing the key through each iteration of the loop to be a more descriptive variable name.\n",
    "    4. Now, change the loop so that it not only prints the `key` at every iteration, but both the `key` and `value` (i.e. print the state as well as the city in the loop).\n",
    "    5. Build another dictionary that stores the state and capital of the state you grew up in, as well as the state and capital of the state your neighbor grew up in. Call this `neighbor_dct`, and put it on the second line of the `warmup2.py` script (before the `for` loop).\n",
    "    6. Now, add a line before the for loop that adds the key-value pairs in `neighbor_dct` to `my_dct`. `my_dct` should now have the contents from it's previous state and also `neighbor_dct`.\n",
    "    7. Modify `warmup2.py` to take in a user inputted state. Then, take that user inputted state, and if it is in `my_dct`, print out it's capital. If it's not, then print out 'Capital not found!'.\n",
    "    8. Now, modify `warmup2.py` to ask the user for a state name. If it is not already in `my_dct`, have your script prompt the user for a capital to associate with that state name.\n"
   ]
  },
  {
   "cell_type": "code",
   "execution_count": 11,
   "metadata": {},
   "outputs": [
    {
     "name": "stdout",
     "output_type": "stream",
     "text": [
      "Texas\n",
      "Indiana\n",
      "Illinois\n",
      "New York\n"
     ]
    }
   ],
   "source": [
    "# %load warmup/warmup2.py\n",
    "my_dct = {'Texas': 'Austin', 'Indiana': 'Indianapolis', 'Illinois': 'Chicago', 'New York': 'New York City'}\n",
    "for element in my_dct:\n",
    "    print(element)\n"
   ]
  },
  {
   "cell_type": "code",
   "execution_count": 12,
   "metadata": {},
   "outputs": [],
   "source": [
    "#A\n",
    "#it is printing the keys of each dictionary"
   ]
  },
  {
   "cell_type": "code",
   "execution_count": 13,
   "metadata": {},
   "outputs": [],
   "source": [
    "#B \n",
    "#When we have a value associated to a key "
   ]
  },
  {
   "cell_type": "code",
   "execution_count": 14,
   "metadata": {},
   "outputs": [
    {
     "name": "stdout",
     "output_type": "stream",
     "text": [
      "State: Texas ,Capital: Austin\n",
      "State: Indiana ,Capital: Indianapolis\n",
      "State: Illinois ,Capital: Chicago\n",
      "State: New York ,Capital: New York City\n"
     ]
    }
   ],
   "source": [
    "#C, D\n",
    "my_dct = {'Texas': 'Austin', 'Indiana': 'Indianapolis', 'Illinois': 'Chicago', 'New York': 'New York City'}\n",
    "for element in my_dct:\n",
    "    print('State:',element,',Capital:', my_dct[element])"
   ]
  },
  {
   "cell_type": "code",
   "execution_count": 15,
   "metadata": {},
   "outputs": [
    {
     "name": "stdout",
     "output_type": "stream",
     "text": [
      "State: Tamaulipas ,Capital: Cd Victoria\n",
      "State: Coahuila ,Capital: Torreon\n"
     ]
    }
   ],
   "source": [
    "#E\n",
    "neighbor_dct= {'Tamaulipas':'Cd Victoria', 'Coahuila':'Torreon'}\n",
    "for element in neighbor_dct:\n",
    "    print('State:',element,',Capital:', neighbor_dct[element])"
   ]
  },
  {
   "cell_type": "code",
   "execution_count": 16,
   "metadata": {},
   "outputs": [
    {
     "data": {
      "text/plain": [
       "{'Texas': 'Austin',\n",
       " 'Indiana': 'Indianapolis',\n",
       " 'Illinois': 'Chicago',\n",
       " 'New York': 'New York City',\n",
       " 'Tamaulipas': 'Cd Victoria',\n",
       " 'Coahuila': 'Torreon'}"
      ]
     },
     "execution_count": 16,
     "metadata": {},
     "output_type": "execute_result"
    }
   ],
   "source": [
    "#F\n",
    "my_dct.update(neighbor_dct)\n",
    "my_dct"
   ]
  },
  {
   "cell_type": "code",
   "execution_count": 17,
   "metadata": {},
   "outputs": [
    {
     "name": "stdin",
     "output_type": "stream",
     "text": [
      "Give me the name of the state:  Tam\n"
     ]
    },
    {
     "data": {
      "text/plain": [
       "'State is not in list'"
      ]
     },
     "execution_count": 17,
     "metadata": {},
     "output_type": "execute_result"
    }
   ],
   "source": [
    "#G\n",
    "state = input('Give me the name of the state: ')\n",
    "my_dct.get(state, 'State is not in list')"
   ]
  },
  {
   "cell_type": "code",
   "execution_count": 19,
   "metadata": {},
   "outputs": [
    {
     "name": "stdin",
     "output_type": "stream",
     "text": [
      "Give me the name of the state:  Tam\n",
      "Give me the capital for the state Vict\n"
     ]
    },
    {
     "data": {
      "text/plain": [
       "{'Texas': 'Austin',\n",
       " 'Indiana': 'Indianapolis',\n",
       " 'Illinois': 'Chicago',\n",
       " 'New York': 'New York City',\n",
       " 'Tamaulipas': 'Cd Victoria',\n",
       " 'Coahuila': 'Torreon',\n",
       " 'Tam': 'Vict'}"
      ]
     },
     "execution_count": 19,
     "metadata": {},
     "output_type": "execute_result"
    }
   ],
   "source": [
    "#H\n",
    "state = input('Give me the name of the state: ')\n",
    "value =my_dct.get(state, 'State is not in list')\n",
    "\n",
    "new_dict = {}\n",
    "answer= 'State is not in list'\n",
    "\n",
    "if value == answer:\n",
    "    capital= input('Give me the capital for the state')\n",
    "    new_dict = {state:capital}\n",
    "    my_dct.update(new_dict)\n",
    "    \n",
    "my_dct"
   ]
  },
  {
   "cell_type": "markdown",
   "metadata": {},
   "source": [
    "3. Set warm up:\n",
    "    1. Run `warmup3.py`. Why are we able to use a `for` loop to print out the elements of `my_set`?\n",
    "    2. On the second line, create a new set (you'll have to move the `for` and everything below it down one line). Call it `my_fav_primes`, and enter 3 of your favorite prime numbers.\n",
    "    3. Now, move everything down one more line, and create a third set that gives the numbers that `my_set` and `my_fav_primes` have in common. Alter the `for` loop to print out the numbers in this new `set`.  \n",
    "    4. Change your code to get only the numbers that are in `my_set` but aren't in `my_fav_primes`. Store these in a third set, and alter the `for` loop to print out the numbers in this third set.\n",
    "    5. Create a new set with the elements from both `my_fav_primes` and `my_set`, and name it `my_tot_primes`. Alter the `for` loop to print out its values.\n",
    "    6. Now, modify `warmup3.py` to take in a user inputted prime, and then add it to `my_tot_primes`."
   ]
  },
  {
   "cell_type": "code",
   "execution_count": 32,
   "metadata": {},
   "outputs": [
    {
     "name": "stdout",
     "output_type": "stream",
     "text": [
      "2\n",
      "3\n",
      "5\n"
     ]
    }
   ],
   "source": [
    "# %load warmup/warmup3.py\n",
    "my_set = {2, 3, 5}\n",
    "for num in my_set:\n",
    "    print(num)\n"
   ]
  },
  {
   "cell_type": "code",
   "execution_count": 33,
   "metadata": {},
   "outputs": [],
   "source": [
    "#A \n",
    "#A set is iterable because each value has an index"
   ]
  },
  {
   "cell_type": "code",
   "execution_count": 34,
   "metadata": {},
   "outputs": [
    {
     "name": "stdout",
     "output_type": "stream",
     "text": [
      "2\n",
      "3\n",
      "5\n",
      "7\n",
      "11\n"
     ]
    }
   ],
   "source": [
    "#B , C\n",
    "my_fav_primes = {3, 7, 11}\n",
    "my_set.update(my_fav_primes)\n",
    "new_set = my_set\n",
    "\n",
    "for i in new_set:\n",
    "    print(i)"
   ]
  },
  {
   "cell_type": "code",
   "execution_count": 39,
   "metadata": {},
   "outputs": [
    {
     "data": {
      "text/plain": [
       "{2, 5}"
      ]
     },
     "execution_count": 39,
     "metadata": {},
     "output_type": "execute_result"
    }
   ],
   "source": [
    "#D\n",
    "my_set = {2, 3, 5}\n",
    "my_set.difference(my_fav_primes)"
   ]
  },
  {
   "cell_type": "code",
   "execution_count": 42,
   "metadata": {},
   "outputs": [
    {
     "name": "stdout",
     "output_type": "stream",
     "text": [
      "2\n",
      "3\n",
      "5\n",
      "7\n",
      "11\n"
     ]
    }
   ],
   "source": [
    "#E\n",
    "my_tot_primes = my_set.union(my_fav_primes)\n",
    "my_tot_primes\n",
    "for i in my_tot_primes:\n",
    "    print(i)"
   ]
  },
  {
   "cell_type": "code",
   "execution_count": 45,
   "metadata": {},
   "outputs": [
    {
     "name": "stdin",
     "output_type": "stream",
     "text": [
      "Give me a number 10\n"
     ]
    },
    {
     "data": {
      "text/plain": [
       "{2, 3, 5, 7, 9, 10, 11}"
      ]
     },
     "execution_count": 45,
     "metadata": {},
     "output_type": "execute_result"
    }
   ],
   "source": [
    "prime_to_add = int(input('Give me a number'))\n",
    "\n",
    "my_tot_primes.add(prime_to_add)\n",
    "my_tot_primes"
   ]
  },
  {
   "cell_type": "markdown",
   "metadata": {},
   "source": [
    "# Assignment Questions\n",
    "\n",
    "### Part 1 - Practice with Tuples\n",
    "\n",
    "1. Write a script that prompts the user to input numbers separated by commas. Your script will then take these inputted numbers and store them as a list of tuples, two at a time. Finally, your script will print that list of tuples to the user. If the user inputs an odd number of numbers, then only make a list of the largest number of pairs of two that are possible.\n",
    "\n",
    " Example: If you inputted the numbers `1, 2, 3, 4, 5, 6`, your script should print `[(1, 2), (3, 4), (5, 6)]`. If you inputted the numbers `1, 2, 3, 4, 5`, your script should print `[(1, 2), (3, 4)]`.\n",
    "\n",
    " **Hint**: Check out the [zip](https://docs.python.org/3/library/functions.html#zip) function. While you don't have to use it, it could make things easier."
   ]
  },
  {
   "cell_type": "code",
   "execution_count": 7,
   "metadata": {},
   "outputs": [
    {
     "name": "stdin",
     "output_type": "stream",
     "text": [
      "Give me numbers separated by comma: 1,2,3,4,5,6\n"
     ]
    },
    {
     "name": "stdout",
     "output_type": "stream",
     "text": [
      "['1', '2', '3', '4', '5', '6']\n"
     ]
    },
    {
     "data": {
      "text/plain": [
       "[(1, 2), (3, 4), (5, 6)]"
      ]
     },
     "execution_count": 7,
     "metadata": {},
     "output_type": "execute_result"
    }
   ],
   "source": [
    "numbers = input('Give me numbers separated by comma:')\n",
    "\n",
    "numbers2= numbers.split(',')\n",
    "print(numbers2)\n",
    "\n",
    "lst_num = []\n",
    "\n",
    "for i in numbers2:\n",
    "    lst_num.append(int(i))\n",
    "\n",
    "\n",
    "lst_even= []\n",
    "lst_odd = []\n",
    "\n",
    "for i in lst_num:\n",
    "    if i % 2 == 0:\n",
    "        lst_even.append(i)\n",
    "    else:\n",
    "        lst_odd.append(i)\n",
    "\n",
    "\n",
    "zipped = zip(lst_odd, lst_even)\n",
    "list(zipped)"
   ]
  },
  {
   "cell_type": "markdown",
   "metadata": {},
   "source": [
    "### Part 2 - Practice with Dictionaries\n",
    "\n",
    "1. Write a script that prompts the user to input numbers separated by dashes ( - ). Your script will take those numbers, and print a dictionary where the keys are the inputted numbers, and the values are the squares of those numbers.\n",
    "\n",
    " Example: If you inputted the numbers `1 - 5 - 8 - 10`, your script should print `{8: 64, 1: 1, 10: 100, 5: 25}` (remember that dictionaries are unordered, which is why the script might print out the key-value pairs in a different order than the user inputted the numbers).\n",
    "\n"
   ]
  },
  {
   "cell_type": "code",
   "execution_count": 16,
   "metadata": {},
   "outputs": [
    {
     "name": "stdin",
     "output_type": "stream",
     "text": [
      "Give me numbers separated by dashes(-): 1-2-3-4-5\n"
     ]
    },
    {
     "data": {
      "text/plain": [
       "{1: 1, 2: 4, 3: 9, 4: 16, 5: 25}"
      ]
     },
     "execution_count": 16,
     "metadata": {},
     "output_type": "execute_result"
    }
   ],
   "source": [
    "numbers = input('Give me numbers separated by dashes(-):')\n",
    "\n",
    "numbers2= numbers.split('-')\n",
    "lst_num= []\n",
    "\n",
    "for i in numbers2:\n",
    "    lst_num.append(int(i))\n",
    "\n",
    "{num: num**2 for num in lst_num}"
   ]
  },
  {
   "cell_type": "markdown",
   "metadata": {},
   "source": [
    "2. Write a script that prompts the user for a state name. It will then check that state name against the dictionary below to give back the capital of that state. However, you'll notice that the dictionary doesn't know the capitals for all the states. If the user inputs the name of a state that isn't in the dictionary, your script should print that the capital is unknown.\n",
    "\n",
    " ```python\n",
    "    state_dictionary = {'Colorado': 'Denver', 'Alaska': 'Juneau', 'California': 'Sacramento',\n",
    "                        'Georgia': 'Atlanta', 'Kansas': 'Topeka', 'Nebraska': 'Lincoln',\n",
    "                        'Oregon': 'Salem', 'Texas': 'Austin', 'New York': 'Albany'}\n",
    " ```\n",
    "\n",
    " Example: If you inputted the state name `Kansas`, your script should print `Topeka`. If you inputted the state name `Washington`, your script should print `Capital unknown`.\n",
    "\n",
    "  How could you make it so that your script isn't sensitive to the case of the inputted state? (**Hint**: one of the easiest ways is by changing the state dictionary slightly and using a method on your input string.)\n"
   ]
  },
  {
   "cell_type": "code",
   "execution_count": 17,
   "metadata": {},
   "outputs": [
    {
     "name": "stdin",
     "output_type": "stream",
     "text": [
      "Nombre de Estado:  Colorado\n"
     ]
    },
    {
     "data": {
      "text/plain": [
       "'Denver'"
      ]
     },
     "execution_count": 17,
     "metadata": {},
     "output_type": "execute_result"
    }
   ],
   "source": [
    "state_dictionary = {'Colorado': 'Denver', 'Alaska': 'Juneau', 'California': 'Sacramento',\n",
    "                      'Georgia': 'Atlanta', 'Kansas': 'Topeka', 'Nebraska': 'Lincoln',\n",
    "                    'Oregon': 'Salem', 'Texas': 'Austin', 'New York': 'Albany'}\n",
    "\n",
    "state_name = input('Nombre de Estado: ')\n",
    "state_dictionary.get(state_name,'Capital unknown')"
   ]
  },
  {
   "cell_type": "markdown",
   "metadata": {},
   "source": [
    "3. Write a script that will continually prompt the user for a set of three things to be separated by commas. The first two things will be (x, y) coordinates of the word that follows (the word will be the third thing). So the user will input a string that is formatted like `x, y, word`. Your script will use the string to build a dictionary with the first two inputs (i.e. the (x, y)) from each string as keys to a dictionary, and the third input (the word) as the value for that key. The script will continually prompt the user to input strings in this format until the user inputs nothing (i.e. hits enter with no input).\n",
    "\n",
    " After building the dictionary, your script should allow the user to query the dictionary it built by accepting strings of the format `x, y`. It should check if the coordinate is in the dictionary, and if it is return the corresponding word. If it isn't, it should print `Coordinate not found`. This should continue until the user inputs the letter `q`, at which point the script should exit.\n",
    "\n",
    " Example usage:\n",
    " ```\n",
    " Please enter a coordinate-word pair in the format (x, y, word): 1, 2, hello\n",
    " Please enter a coordinate-word pair in the format (x, y, word): 2, 3, world\n",
    " Please enter a coordinate-word pair in the format (x, y, word):\n",
    " Please enter a coordinate to look up: 2, 3  \n",
    " world\n",
    " Please enter a coordinate to look up: 3, 4\n",
    " Coordinate not found\n",
    " Please enter a coordinate to look up: q"
   ]
  },
  {
   "cell_type": "code",
   "execution_count": 34,
   "metadata": {},
   "outputs": [
    {
     "name": "stdin",
     "output_type": "stream",
     "text": [
      "Please enter a coordinate-word pair in the format (x, y, word):  45, 4, mexico\n",
      "Please enter a coordinate-word pair in the format (x, y, word):  \n",
      "Please enter a coordinate to look up:  45, 4\n"
     ]
    },
    {
     "name": "stdout",
     "output_type": "stream",
     "text": [
      "mexico\n"
     ]
    },
    {
     "name": "stdin",
     "output_type": "stream",
     "text": [
      "Please enter a coordinate to look up:  \n"
     ]
    },
    {
     "name": "stdout",
     "output_type": "stream",
     "text": [
      "Coordinate not found\n"
     ]
    },
    {
     "name": "stdin",
     "output_type": "stream",
     "text": [
      "Please enter a coordinate to look up:  \n"
     ]
    },
    {
     "name": "stdout",
     "output_type": "stream",
     "text": [
      "Coordinate not found\n"
     ]
    },
    {
     "name": "stdin",
     "output_type": "stream",
     "text": [
      "Please enter a coordinate to look up:  x\n"
     ]
    },
    {
     "name": "stdout",
     "output_type": "stream",
     "text": [
      "Coordinate not found\n"
     ]
    },
    {
     "name": "stdin",
     "output_type": "stream",
     "text": [
      "Please enter a coordinate to look up:  q\n"
     ]
    }
   ],
   "source": [
    "word_dict = {}\n",
    "while True:\n",
    "    entry = input('Please enter a coordinate-word pair in the format (x, y, word): ')\n",
    "    if not entry:\n",
    "        break\n",
    "    x, y, word = entry.split(', ')\n",
    "    word_dict[(x, y)] = word\n",
    "\n",
    "while True:\n",
    "    lookup = input('Please enter a coordinate to look up: ')\n",
    "    if lookup == 'q':\n",
    "        break\n",
    "    coord = tuple(lookup.split(', '))\n",
    "    if coord not in word_dict:\n",
    "        print('Coordinate not found')\n",
    "        continue\n",
    "    print(word_dict[coord])"
   ]
  },
  {
   "cell_type": "markdown",
   "metadata": {},
   "source": [
    "### Part 3 - Practice with Sets\n",
    "\n",
    "1. Write a script that prompts the user to input numbers separated by commas, and then does so again. It should then print those numbers that were common in both entries.\n",
    "\n",
    " Example: If you inputted the numbers `1, 2, 3, 5, 6` first, and `2, 3, 4, 6, 7` second, your script should print `2, 3, 6`. Make sure to use sets, as they are optimal for this problem.\n",
    "\n",
    " **Hint**: For the output to be formatted in the prescribed way, you could use the `join()` method available on strings."
   ]
  },
  {
   "cell_type": "code",
   "execution_count": 23,
   "metadata": {},
   "outputs": [
    {
     "name": "stdin",
     "output_type": "stream",
     "text": [
      "Give me numbers separated by commas: 1,2,3,4,5\n",
      "Give me numbers separated by commas: 2,3,4\n"
     ]
    },
    {
     "name": "stdout",
     "output_type": "stream",
     "text": [
      "3,2,4\n"
     ]
    },
    {
     "data": {
      "text/plain": [
       "{'2', '3', '4'}"
      ]
     },
     "execution_count": 23,
     "metadata": {},
     "output_type": "execute_result"
    }
   ],
   "source": [
    "values1 = input('Give me numbers separated by commas:')\n",
    "values2 = input('Give me numbers separated by commas:')\n",
    "\n",
    "\n",
    "first_nums_set = set(values1.split(','))\n",
    "second_nums_set = set(values2.split(','))\n",
    "\n",
    "common_nums = first_nums_set & second_nums_set\n",
    "\n",
    "print(','.join(common_nums))\n"
   ]
  },
  {
   "cell_type": "code",
   "execution_count": 15,
   "metadata": {},
   "outputs": [],
   "source": [
    "numList = [values1]\n",
    "seperator = ', '\n",
    "jessica = seperator.join(numList)"
   ]
  },
  {
   "cell_type": "markdown",
   "metadata": {},
   "source": [
    "2. Write a script that prompts a user to input a list of words separated by commas, and then prints out the unique words in the list.\n",
    "\n",
    " Example: If you inputted the words `hello, there, how, are, you, hello, you`, your script would print `how, you, there, hello, are`."
   ]
  },
  {
   "cell_type": "code",
   "execution_count": 32,
   "metadata": {},
   "outputs": [
    {
     "name": "stdin",
     "output_type": "stream",
     "text": [
      "Give me words separated by commas: hello, there, how, are, you, hello, you\n"
     ]
    },
    {
     "name": "stdout",
     "output_type": "stream",
     "text": [
      "{'are', 'there', 'you', 'how', 'hello'}\n"
     ]
    }
   ],
   "source": [
    "words = input('Give me words separated by commas:')\n",
    "\n",
    "unique_words = set(words.split(', '))\n",
    "print(unique_words)"
   ]
  },
  {
   "cell_type": "code",
   "execution_count": 33,
   "metadata": {},
   "outputs": [
    {
     "data": {
      "text/plain": [
       "{'are', 'hello', 'how', 'there', 'you'}"
      ]
     },
     "execution_count": 33,
     "metadata": {},
     "output_type": "execute_result"
    }
   ],
   "source": [
    "unique_words"
   ]
  },
  {
   "cell_type": "markdown",
   "metadata": {},
   "source": [
    "3. Write a script that continually accepts a word from the user. As it does, it should add the word to a set. If the user enters the letter `v`, your script should display all the known words, it's vocabulary. This will continue until the user enters the letter `q`, which should quit the program.\n",
    "\n",
    " Example usage:\n",
    " ```\n",
    " Enter a word to add to the vocabulary: thing\n",
    " Enter a word to add to the vocabulary: stuff\n",
    " Enter a word to add to the vocabulary: v\n",
    " thing stuff\n",
    " Enter a word to add to the vocabulary: hello\n",
    " Enter a word to add to the vocabulary: v\n",
    " thing stuff hello\n",
    " Enter a word to add to the vocabulary: q\n",
    " ```"
   ]
  },
  {
   "cell_type": "code",
   "execution_count": 45,
   "metadata": {},
   "outputs": [
    {
     "name": "stdin",
     "output_type": "stream",
     "text": [
      "Enter a word to add to the vocabulary: hello\n",
      "Enter a word to add to the vocabulary: hello\n",
      "Enter a word to add to the vocabulary: there\n",
      "Enter a word to add to the vocabulary: how\n",
      "Enter a word to add to the vocabulary: how \n",
      "Enter a word to add to the vocabulary: v\n"
     ]
    },
    {
     "name": "stdout",
     "output_type": "stream",
     "text": [
      "{'there', 'how ', 'hello', 'how'}\n"
     ]
    },
    {
     "name": "stdin",
     "output_type": "stream",
     "text": [
      "Enter a word to add to the vocabulary: q\n"
     ]
    }
   ],
   "source": [
    "word_set = set()\n",
    "\n",
    "while True:\n",
    "    entry = input('Enter a word to add to the vocabulary:')\n",
    "    if entry == 'v':\n",
    "        print(word_set)\n",
    "    elif entry == 'q':\n",
    "        break\n",
    "    word_set.add(entry)"
   ]
  }
 ],
 "metadata": {
  "kernelspec": {
   "display_name": "Python 3",
   "language": "python",
   "name": "python3"
  },
  "language_info": {
   "codemirror_mode": {
    "name": "ipython",
    "version": 3
   },
   "file_extension": ".py",
   "mimetype": "text/x-python",
   "name": "python",
   "nbconvert_exporter": "python",
   "pygments_lexer": "ipython3",
   "version": "3.7.3"
  }
 },
 "nbformat": 4,
 "nbformat_minor": 2
}
