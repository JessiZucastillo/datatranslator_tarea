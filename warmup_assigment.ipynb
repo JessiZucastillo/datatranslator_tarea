{
 "cells": [
  {
   "cell_type": "code",
   "execution_count": 6,
   "metadata": {},
   "outputs": [
    {
     "name": "stdin",
     "output_type": "stream",
     "text": [
      "Please enter a number 1 and 100:  40\n"
     ]
    },
    {
     "name": "stdout",
     "output_type": "stream",
     "text": [
      "You are too low.\n"
     ]
    },
    {
     "name": "stdin",
     "output_type": "stream",
     "text": [
      "Please enter another number:  60\n"
     ]
    },
    {
     "name": "stdout",
     "output_type": "stream",
     "text": [
      "You are too low.\n"
     ]
    },
    {
     "name": "stdin",
     "output_type": "stream",
     "text": [
      "Please enter another number:  80\n"
     ]
    },
    {
     "name": "stdout",
     "output_type": "stream",
     "text": [
      "You are too low.\n"
     ]
    },
    {
     "name": "stdin",
     "output_type": "stream",
     "text": [
      "Please enter another number:  90\n"
     ]
    },
    {
     "name": "stdout",
     "output_type": "stream",
     "text": [
      "You are too high.\n"
     ]
    },
    {
     "name": "stdin",
     "output_type": "stream",
     "text": [
      "Please enter another number:  88\n"
     ]
    },
    {
     "name": "stdout",
     "output_type": "stream",
     "text": [
      "You are too high.\n"
     ]
    },
    {
     "name": "stdin",
     "output_type": "stream",
     "text": [
      "Please enter another number:  85\n"
     ]
    },
    {
     "name": "stdout",
     "output_type": "stream",
     "text": [
      "You are too low.\n"
     ]
    },
    {
     "name": "stdin",
     "output_type": "stream",
     "text": [
      "Please enter another number:  83\n"
     ]
    },
    {
     "name": "stdout",
     "output_type": "stream",
     "text": [
      "You are too low.\n"
     ]
    },
    {
     "name": "stdin",
     "output_type": "stream",
     "text": [
      "Please enter another number:  84\n"
     ]
    },
    {
     "name": "stdout",
     "output_type": "stream",
     "text": [
      "You are too low.\n"
     ]
    },
    {
     "name": "stdin",
     "output_type": "stream",
     "text": [
      "Please enter another number:  85\n"
     ]
    },
    {
     "name": "stdout",
     "output_type": "stream",
     "text": [
      "You are too low.\n"
     ]
    },
    {
     "name": "stdin",
     "output_type": "stream",
     "text": [
      "Please enter another number:  86\n"
     ]
    },
    {
     "name": "stdout",
     "output_type": "stream",
     "text": [
      "You are too low.\n"
     ]
    },
    {
     "name": "stdin",
     "output_type": "stream",
     "text": [
      "Please enter another number:  87\n"
     ]
    },
    {
     "name": "stdout",
     "output_type": "stream",
     "text": [
      "You are correct! That only took 11 guesses!\n"
     ]
    }
   ],
   "source": [
    "# %load warmup1.py\n",
    "import random\n",
    "\n",
    "y = random.randint(1,100)\n",
    "x = int(input(\"Please enter a number 1 and 100: \"))\n",
    "count = 1\n",
    "\n",
    "while x != y:\n",
    "    if x > y:\n",
    "        print(\"You are too high.\")\n",
    "    elif x < y:\n",
    "        print(\"You are too low.\")\n",
    "    x = int(input(\"Please enter another number: \"))\n",
    "    count += 1\n",
    "print(\"You are correct! That only took \" + str(count) + \" guesses!\")\n"
   ]
  },
  {
   "cell_type": "code",
   "execution_count": 26,
   "metadata": {},
   "outputs": [
    {
     "name": "stdout",
     "output_type": "stream",
     "text": [
      "4 6 2 3 1 5\n"
     ]
    }
   ],
   "source": [
    "# %load warmup2.py\n",
    "for a in range(1, 7):\n",
    "    for b in range(1, 7):\n",
    "        for c in range(1, 7):\n",
    "            for d in range(1, 7):\n",
    "                for e in range(1, 7):\n",
    "                    for f in range(1, 7):\n",
    "                        if (a + (b - c) * d - e) * f == 75 and len({a, b, c, d, e, f}) == 6:\n",
    "                            print(a, b, c, d, e, f)\n",
    "\n",
    "\n"
   ]
  },
  {
   "cell_type": "code",
   "execution_count": 27,
   "metadata": {},
   "outputs": [
    {
     "name": "stdout",
     "output_type": "stream",
     "text": [
      "4 6 2 3 1 5\n"
     ]
    }
   ],
   "source": [
    "for a in range(1, 7):\n",
    "    for b in range(1, 7):\n",
    "        for c in range(1, 7):\n",
    "            for d in range(1, 7):\n",
    "                for e in range(1, 7):\n",
    "                    for f in range(1, 7):\n",
    "                        if ((a + (b - c) * d - e) * f == 75 and\n",
    "                        a != b and a != c and a != d and\n",
    "                        a != e and a != f and b != c and\n",
    "                        b != d and b != e and b != f and\n",
    "                        c != d and c != e and c != f and\n",
    "                        d != e and d != f and e != f):\n",
    "                            print(a, b, c, d, e, f)"
   ]
  },
  {
   "cell_type": "code",
   "execution_count": 4,
   "metadata": {},
   "outputs": [],
   "source": [
    "# %load warmup.md\n",
    "\n",
    "1. Multiplication can be thought of as repeated additions. Write a script that takes as input two positive integers,\n",
    "`a` and `b`, and returns `a * b`. Do this without using the `*` operator. \n",
    "\n",
    "2. Integer division can be done with repeated substraction, similar to how multiplication can be done with addition. \n",
    "Write a script that takes as input two positive integers, `a` and `b`, and returns `a / b`. Do this without using the `/` operator.\n",
    "\n",
    "3. Exponentiation is repeated multiplication. Write a script that takes as input two positive integers, `a` and `b`, and returns\n",
    "`a ** b`. Do this without using the `**` operator.\n",
    "\n",
    "4. For two integers, `a` and `b`, `b` divides `a` if `a / b` has no remainder. Write a script that takes as input two positive integers, \n",
    "`a` and `b`, and says whether `b` divides `a`.\n",
    "\n",
    "5. `while` loops and conditionals give you a lot of power. Try and create a game where a user is repeteadly asked to guess a number. \n",
    "If they get it wrong, they are asked to guess again, and if they are correct, they are told and the game ends. For extra credit, \n",
    "have the game tell the user whether their guess was high or low.\n",
    "    \n"
   ]
  },
  {
   "cell_type": "code",
   "execution_count": 16,
   "metadata": {},
   "outputs": [
    {
     "name": "stdin",
     "output_type": "stream",
     "text": [
      "Give me value a: 4\n",
      "Give me value b: 4\n"
     ]
    },
    {
     "name": "stdout",
     "output_type": "stream",
     "text": [
      "16\n"
     ]
    }
   ],
   "source": [
    "a = int(input(\"Give me value a:\"))\n",
    "b = int(input(\"Give me value b:\"))\n",
    "\n",
    "total = 0\n",
    "for i in range(0,b):\n",
    "    total = total + a\n",
    "    \n",
    "print(total)"
   ]
  },
  {
   "cell_type": "code",
   "execution_count": 31,
   "metadata": {},
   "outputs": [
    {
     "name": "stdin",
     "output_type": "stream",
     "text": [
      "Give me value a: 50\n",
      "Give me value b: 2\n"
     ]
    },
    {
     "name": "stdout",
     "output_type": "stream",
     "text": [
      "25\n"
     ]
    }
   ],
   "source": [
    "i=0\n",
    "a = int(input(\"Give me value a:\"))\n",
    "b = int(input(\"Give me value b:\"))\n",
    "\n",
    "resultado = a\n",
    "\n",
    "while resultado >0:\n",
    "    resultado = resultado-b\n",
    "    i+=1\n",
    "\n",
    "print(i)"
   ]
  },
  {
   "cell_type": "code",
   "execution_count": 36,
   "metadata": {},
   "outputs": [
    {
     "name": "stdin",
     "output_type": "stream",
     "text": [
      "Give me value a: 2\n",
      "Give me value b: 5\n"
     ]
    },
    {
     "name": "stdout",
     "output_type": "stream",
     "text": [
      "32\n"
     ]
    }
   ],
   "source": [
    "a = int(input(\"Give me value a:\"))\n",
    "b = int(input(\"Give me value b:\"))\n",
    "\n",
    "total = a\n",
    "\n",
    "for i in range(1,b):\n",
    "    total = total*a\n",
    "print(total)"
   ]
  },
  {
   "cell_type": "code",
   "execution_count": 41,
   "metadata": {},
   "outputs": [
    {
     "name": "stdin",
     "output_type": "stream",
     "text": [
      "Give me value a: 4\n",
      "Give me value b: 2\n"
     ]
    },
    {
     "name": "stdout",
     "output_type": "stream",
     "text": [
      "2 divides 4\n"
     ]
    }
   ],
   "source": [
    "a = int(input(\"Give me value a:\"))\n",
    "b = int(input(\"Give me value b:\"))\n",
    "\n",
    "if a%b ==0:\n",
    "    print(b,'divides',a)\n",
    "    "
   ]
  },
  {
   "cell_type": "code",
   "execution_count": null,
   "metadata": {},
   "outputs": [],
   "source": []
  }
 ],
 "metadata": {
  "kernelspec": {
   "display_name": "Python 3",
   "language": "python",
   "name": "python3"
  },
  "language_info": {
   "codemirror_mode": {
    "name": "ipython",
    "version": 3
   },
   "file_extension": ".py",
   "mimetype": "text/x-python",
   "name": "python",
   "nbconvert_exporter": "python",
   "pygments_lexer": "ipython3",
   "version": "3.7.3"
  }
 },
 "nbformat": 4,
 "nbformat_minor": 2
}
