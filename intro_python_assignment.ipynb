{
 "cells": [
  {
   "cell_type": "code",
   "execution_count": 16,
   "metadata": {},
   "outputs": [
    {
     "name": "stdin",
     "output_type": "stream",
     "text": [
      " -10\n"
     ]
    },
    {
     "name": "stdout",
     "output_type": "stream",
     "text": [
      "The inputted number is negative\n"
     ]
    }
   ],
   "source": [
    "## Assignment Questions\n",
    "\n",
    "#1. Write a script that takes a user inputted number and prints whether it is positive, negative or zero, with \"The inputted number is (positive/negative/zero)\" depending.\n",
    "\n",
    "number = input()\n",
    "\n",
    "number = int(number)\n",
    "\n",
    "if number > 0:\n",
    "    print('The inputted number is positive')\n",
    "elif number < 0:\n",
    "    print('The inputted number is negative')\n",
    "else: \n",
    "    print('The inputted number is zero')  "
   ]
  },
  {
   "cell_type": "code",
   "execution_count": 22,
   "metadata": {},
   "outputs": [
    {
     "name": "stdin",
     "output_type": "stream",
     "text": [
      " 12\n",
      " 100\n"
     ]
    },
    {
     "name": "stdout",
     "output_type": "stream",
     "text": [
      "The second number is larger\n"
     ]
    }
   ],
   "source": [
    "#2. Write a script that takes two user inputted numbers and prints \"The first number is larger\" \n",
    "#or \"The second number is larger\" depending on which is larger. (**Hint**: you'll need to use `input()` twice.)\n",
    "\n",
    "n = input()\n",
    "m = input()\n",
    "\n",
    "if len(n) > len(m):\n",
    "    print(\"The first number is larger\")\n",
    "else:\n",
    "    print(\"The second number is larger\")"
   ]
  },
  {
   "cell_type": "code",
   "execution_count": 7,
   "metadata": {},
   "outputs": [
    {
     "name": "stdin",
     "output_type": "stream",
     "text": [
      " 10\n"
     ]
    },
    {
     "name": "stdout",
     "output_type": "stream",
     "text": [
      "55\n"
     ]
    }
   ],
   "source": [
    "#3. Write a script that computes the sum from 0 to a user inputted number. \n",
    "#This time though, start at the user inputted number and work down. \n",
    "#This answer will look very much like the example above, you'll just need to change a couple of things.\n",
    "\n",
    "k = int(input())\n",
    "total = 0\n",
    "i=0\n",
    "\n",
    "while i <= k:\n",
    "    total+=i\n",
    "    i+=1\n",
    "print(total)"
   ]
  },
  {
   "cell_type": "code",
   "execution_count": 9,
   "metadata": {},
   "outputs": [
    {
     "name": "stdin",
     "output_type": "stream",
     "text": [
      " 5\n"
     ]
    },
    {
     "name": "stdout",
     "output_type": "stream",
     "text": [
      "120\n"
     ]
    }
   ],
   "source": [
    "#4. Write a script that computes the factorial of a user inputted number. If you don't know what a factorial is or need a review, \n",
    "#check [this](https://en.wikipedia.org/wiki/Factorial) link out. Again, your solution is going to look a lot like the code above. \n",
    "#Things you should think about:\n",
    " #   * What is the process of computing a factorial if you were to compute it by hand?\n",
    " #  * What is the common starting place when trying to compute the factorial of any number?<br><br>\n",
    "\n",
    "n = int(input())\n",
    "total = 1\n",
    "i = 1\n",
    "\n",
    "while i <= n:\n",
    "    total *=i\n",
    "    i+=1\n",
    "print(total)"
   ]
  },
  {
   "cell_type": "code",
   "execution_count": 18,
   "metadata": {},
   "outputs": [
    {
     "name": "stdin",
     "output_type": "stream",
     "text": [
      "Give me a number 36\n"
     ]
    },
    {
     "name": "stdout",
     "output_type": "stream",
     "text": [
      "[1, 2, 3, 4, 6, 9, 12, 18, 36]\n"
     ]
    }
   ],
   "source": [
    "#5.  Write a script that computes and prints all of the divisors of a user inputted number. \n",
    "#If you don't know what a divisor is or need a review, check out [this](https://en.wikipedia.org/wiki/Divisor) link. Things to think about:\n",
    "  #  * How do you determine if a single number is a divisor of another?\n",
    "  #  * How do you do this multiple times (**Hint**: it involves a while loop)?\n",
    "  #  * When do you stop the loop?\n",
    "    \n",
    "x = int(input('Give me a number'))\n",
    "lst = list()\n",
    "for i in range(1, x+1):\n",
    "    if x % i ==0:\n",
    "        lst.append(i)\n",
    "        #print(lst)\n",
    "print(lst)\n"
   ]
  },
  {
   "cell_type": "code",
   "execution_count": 21,
   "metadata": {},
   "outputs": [
    {
     "name": "stdin",
     "output_type": "stream",
     "text": [
      "Give a number: 48\n",
      "Give me another number 60\n"
     ]
    },
    {
     "name": "stdout",
     "output_type": "stream",
     "text": [
      "GCD 12\n"
     ]
    }
   ],
   "source": [
    "#6.  Write a script that computes the greatest common divisor between two user inputted numbers. \n",
    "#If you don't know what a greatest common divisor is, check out [this](https://en.wikipedia.org/wiki/Greatest_common_divisor) link. \n",
    "#Things to think about:\n",
    " #   * How do you get two numbers from the user? With the input() method\n",
    " #  * Where should you start your search for the GCD? with the superior limit\n",
    " #  * Where/how should you end your search? with the number 1\n",
    "    \n",
    "a = int(input('Give a number:'))\n",
    "b = int(input('Give me another number'))\n",
    "\n",
    "max_n = max(a,b)\n",
    "min_n = min(a,b)\n",
    "\n",
    "while min_n != 0:\n",
    "    res = min_n\n",
    "    min_n = max_n%min_n\n",
    "    max_n =res\n",
    "print('GCD',res)"
   ]
  },
  {
   "cell_type": "code",
   "execution_count": 1,
   "metadata": {},
   "outputs": [
    {
     "name": "stdin",
     "output_type": "stream",
     "text": [
      "Give me a number:  40\n",
      "Give me another number:  20\n"
     ]
    },
    {
     "name": "stdout",
     "output_type": "stream",
     "text": [
      "LCM:  40\n"
     ]
    }
   ],
   "source": [
    "#7.  Write a script that computes the least common multiple between two user inputted numbers. If you don't know what a least common \n",
    "#multiple is or want a review check [this](https://en.wikipedia.org/wiki/Least_common_multiple) out. Things to think about:\n",
    " #   * How do you get two numbers from the user? with the input method twice\n",
    " #   * Where should you start your search for the LCM? Creating a serie of numbers of each given number\n",
    " #   * Where/how should you end your search? when the given number from one list is equals to the other number in the second list\n",
    "\n",
    "x = int(input('Give me a number: '))\n",
    "y = int(input('Give me another number: '))\n",
    "lst1 = list()\n",
    "lst2 = list()\n",
    "minimo = 0\n",
    "\n",
    "for i in range(1,11):\n",
    "    res = x*i\n",
    "    lst1.append(res)\n",
    "    \n",
    "for j in range(1,11):\n",
    "    res2 = y*j\n",
    "    lst2.append(res2)\n",
    "    \n",
    "for n in lst1:\n",
    "    for m in lst2:\n",
    "        if m == n:\n",
    "            break\n",
    "    if m == n:\n",
    "        break\n",
    "minimo = m\n",
    "\n",
    "print ('LCM: ',minimo)"
   ]
  },
  {
   "cell_type": "code",
   "execution_count": 4,
   "metadata": {},
   "outputs": [
    {
     "name": "stdin",
     "output_type": "stream",
     "text": [
      " 7\n"
     ]
    },
    {
     "name": "stdout",
     "output_type": "stream",
     "text": [
      "The number you inputted is a prime number.\n"
     ]
    }
   ],
   "source": [
    "#8. Write a script that determines whether or not a user inputted number is a prime number and prints `'The number you inputted is (not) a prime number.'` depending on what your script finds. \n",
    "#If you don't know what a prime number is or need a review, check out [this](https://en.wikipedia.org/wiki/Prime_number) link. Things to think about:\n",
    " #   * How do you check if a number is divisible by another number?\n",
    " #   * What numbers are a prime number divisible by?\n",
    " #   * How do you check all of the numbers a number could be divisible by (**Hint**: use a loop)?\n",
    " #   * When do you stop the loop?<br><br>\n",
    "\n",
    "num = int(input())\n",
    "\n",
    "if num > 1:  \n",
    "   for i in range(2, num//2):  \n",
    "       if (num % i) == 0: \n",
    "           print(num, \"is not a prime number\") \n",
    "           break\n",
    "   else: \n",
    "       print(\"The number you inputted is a prime number.\") \n",
    "  \n",
    "else: \n",
    "   print(\"The number you inputted is not a prime number.\") "
   ]
  },
  {
   "cell_type": "code",
   "execution_count": 9,
   "metadata": {},
   "outputs": [
    {
     "name": "stdin",
     "output_type": "stream",
     "text": [
      " 3\n"
     ]
    },
    {
     "name": "stdout",
     "output_type": "stream",
     "text": [
      "15\n"
     ]
    }
   ],
   "source": [
    "#9.  One can use loops to compute the elements of a mathematical series. Series can be defined recursively with the value of each element depending on the one that comes before it. Consider the series created by the rules:\n",
    "\n",
    " #   ![series](misc/series_pic.png)\n",
    "\n",
    " #  Write a script that prints the `nth` element in the series as determined by input from the user. e.g. If the user inputs the number `3`, your script should print the 3rd element in the series, `15`. You're welcome to check the math! Things to think about:\n",
    " #   * You know you're going to use a loop to solve this problem, how?\n",
    " #   * How do you store each of the elements as you calculate them with the loop?\n",
    " #   * How many elements do you need to keep track of at any one time?\n",
    " #   * How do you know when to stop the loop?\n",
    "\n",
    "x = int(input())\n",
    "elem= 0\n",
    "for i in range (0,x+1):\n",
    "    elem = 2*elem+1\n",
    "\n",
    "print(elem)"
   ]
  },
  {
   "cell_type": "code",
   "execution_count": null,
   "metadata": {},
   "outputs": [],
   "source": [
    "\n",
    "#10. Challenge: solve the equation:\n",
    "\n",
    " #   `(a + (b - c) * d - e) * f = 75`\n",
    "\n",
    " #  where a, b, c, d, e, and f are unique integers in the range [1, 6].\n",
    "\n",
    " #   Hints:\n",
    " #    - Computers are so fast that your program can simply try all possible valid values of a, b, c, d, e, and f until it finds one permutation of 1-6 that solves the challenge! (Btw, there is only *one* permutation that will solve it.)\n",
    " #    - Use 6 nested for-loops to enumerate all ways of setting each of a, b, c, d, e, and f to the values 1-6.\n",
    " #    - Use if-statements to ensure all values of a, b, c, d, e, and f are valid. (I.e. to ensure that each value is unique)\n",
    " #     - Use an if-statement to test if the current permutation solves the challenge.<br><br>\n",
    "\n",
    " #  Want more? Modify your program to solve all these (very similar) equations:\n",
    "\n",
    " #   ```\n",
    " #   (a + (b - c) * d - e) * f = 22\n",
    " #   (a + (b - c) * d - e) * f = 38\n",
    " #   (a + (b - c) * d - e) * f = 46\n",
    " #   (a + (b - c) * d - e) * f = 57\n",
    " #   (a + (b - c) * d - e) * f = 78\n",
    " #   (a + (b - c) * d - e) * f = 80\n",
    " #   (a + (b - c) * d - e) * f = 81\n",
    " #   (a + (b - c) * d - e) * f = 88\n",
    " #   (a + (b - c) * d - e) * f = 92\n",
    " #   (a + (b - c) * d - e) * f = 100\n",
    " #   (a + (b - c) * d - e) * f = 102\n",
    " #   (a + (b - c) * d - e) * f = 104\n",
    " #   (a + (b - c) * d - e) * f = 105\n",
    " #   ```\n"
   ]
  }
 ],
 "metadata": {
  "kernelspec": {
   "display_name": "Python 3",
   "language": "python",
   "name": "python3"
  },
  "language_info": {
   "codemirror_mode": {
    "name": "ipython",
    "version": 3
   },
   "file_extension": ".py",
   "mimetype": "text/x-python",
   "name": "python",
   "nbconvert_exporter": "python",
   "pygments_lexer": "ipython3",
   "version": "3.7.3"
  }
 },
 "nbformat": 4,
 "nbformat_minor": 2
}
