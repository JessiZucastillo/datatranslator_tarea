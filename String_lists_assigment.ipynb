{
 "cells": [
  {
   "cell_type": "markdown",
   "metadata": {},
   "source": [
    "1. String Warm-up\n",
    "    1. Look at the code in `warmup1.py`. What is the letter at index 14 of `my_str`? Think about this first, then feel free to print just that letter to check your answer.\n",
    "    2. In line 1 of `warmup1.py`, change the definition of `my_str` to use the contraction \"wasn't\" instead of \"was not\". What letter is at index 14 now?\n",
    "    3. Change `warmup1.py` to print `my_str` with only lowercase letters.\n",
    "    4. Add a line between lines 1 and 2 that adds the string `\"oR wAs it??\"` to the end of `my_str`. When you print `my_str` with no uppercase letters now, it should display: `this string wasn't chosen arbitrarily...or was it??`. (**Hint**: use string concatenation with `+=` to redefine `my_str`)\n",
    "    5. Using indexing, print only the `\"oR wAs it\"` in `my_str`. You're going to have to use `[start_index:end_index]` notation to do this.\n",
    "    6. Find a different way to index into `my_str` to print only the `\"oR wAs it\"`. This time, though, print all the letters in uppercase.\n",
    "    7. Add the line `user_input = input('Add \"oR wAs it??\" (y/n)? ')` at the top of `warmup1.py`. This will prompt the user to enter a `y` or an `n`. Now add an `if` statement to your code that only adds the string `\"oR wAs it??\"` to `my_str` if the user inputs a `y`. If the user inputs an `n`, don't add `\"oR wAs it??\"` to `my_str`. Print `my_str` at the end of the script.\n",
    "    8. Change the first line of `warmup1.py` to `user_input = input('String to add to end of my_str: ')`. Add `user_input` to the end of `my_str` instead of `\"oR wAs it??\"` and print `my_str`. Note, you'll have to remove the `if` you have in your code from the previous question.\n",
    "    9. Now, only add `user_input` to `my_str` if it's shorter than 10 characters. No matter what, print `my_str`.\n"
   ]
  },
  {
   "cell_type": "code",
   "execution_count": 2,
   "metadata": {},
   "outputs": [
    {
     "name": "stdout",
     "output_type": "stream",
     "text": [
      "THIS STRING WAS NOT CHOSEN ARBITRARILY...\n"
     ]
    }
   ],
   "source": [
    "# %load warmups/warmup1.py\n",
    "my_str = 'This String was not Chosen Arbitrarily...'\n",
    "print(my_str.upper())\n"
   ]
  },
  {
   "cell_type": "code",
   "execution_count": 3,
   "metadata": {},
   "outputs": [
    {
     "data": {
      "text/plain": [
       "'s'"
      ]
     },
     "execution_count": 3,
     "metadata": {},
     "output_type": "execute_result"
    }
   ],
   "source": [
    "#A\n",
    "my_str[14]"
   ]
  },
  {
   "cell_type": "code",
   "execution_count": 4,
   "metadata": {},
   "outputs": [],
   "source": [
    "#B\n",
    "my_str = \"This String wasn't Chosen Arbitrarily...\""
   ]
  },
  {
   "cell_type": "code",
   "execution_count": 5,
   "metadata": {},
   "outputs": [
    {
     "data": {
      "text/plain": [
       "'s'"
      ]
     },
     "execution_count": 5,
     "metadata": {},
     "output_type": "execute_result"
    }
   ],
   "source": [
    "my_str[14]"
   ]
  },
  {
   "cell_type": "code",
   "execution_count": 6,
   "metadata": {},
   "outputs": [
    {
     "name": "stdout",
     "output_type": "stream",
     "text": [
      "this string was not chosen arbitrarily...\n"
     ]
    }
   ],
   "source": [
    "#C\n",
    "my_str = 'This String was not Chosen Arbitrarily...'\n",
    "print(my_str.lower())"
   ]
  },
  {
   "cell_type": "code",
   "execution_count": 7,
   "metadata": {},
   "outputs": [],
   "source": [
    "#D\n",
    "my_str+= \"oR wAs it??\""
   ]
  },
  {
   "cell_type": "code",
   "execution_count": 8,
   "metadata": {},
   "outputs": [],
   "source": [
    "my_str = my_str.lower()"
   ]
  },
  {
   "cell_type": "code",
   "execution_count": 9,
   "metadata": {},
   "outputs": [
    {
     "data": {
      "text/plain": [
       "'or was it'"
      ]
     },
     "execution_count": 9,
     "metadata": {},
     "output_type": "execute_result"
    }
   ],
   "source": [
    "#E\n",
    "my_str[41:50]"
   ]
  },
  {
   "cell_type": "code",
   "execution_count": 24,
   "metadata": {},
   "outputs": [
    {
     "name": "stdout",
     "output_type": "stream",
     "text": [
      "OR WAS IT\n"
     ]
    }
   ],
   "source": [
    "#F\n",
    "new_str=''\n",
    "count = 0\n",
    "for letter in my_str:\n",
    "    count+=1\n",
    "    if count >= 42 and count <= 50:\n",
    "        letter = letter.upper()\n",
    "        new_str+= letter\n",
    "print(new_str)"
   ]
  },
  {
   "cell_type": "code",
   "execution_count": 27,
   "metadata": {},
   "outputs": [
    {
     "name": "stdin",
     "output_type": "stream",
     "text": [
      "Add \"oR wAs it??\" (y/n)?  n\n"
     ]
    },
    {
     "name": "stdout",
     "output_type": "stream",
     "text": [
      "This String was not Chosen Arbitrarily...\n"
     ]
    }
   ],
   "source": [
    "#G\n",
    "my_str = 'This String was not Chosen Arbitrarily...'\n",
    "user_input = input('Add \"oR wAs it??\" (y/n)? ')\n",
    "\n",
    "if (user_input== 'y'):\n",
    "    my_str+='R wAs it??'\n",
    "print(my_str)"
   ]
  },
  {
   "cell_type": "code",
   "execution_count": 29,
   "metadata": {},
   "outputs": [
    {
     "name": "stdin",
     "output_type": "stream",
     "text": [
      "String to add to end of my_str:  Jessica\n"
     ]
    },
    {
     "name": "stdout",
     "output_type": "stream",
     "text": [
      "This String was not Chosen Arbitrarily...Jessica\n"
     ]
    }
   ],
   "source": [
    "#H\n",
    "user_input = input('String to add to end of my_str: ')\n",
    "\n",
    "my_str = 'This String was not Chosen Arbitrarily...'\n",
    "\n",
    "my_str+=user_input\n",
    "print(my_str)"
   ]
  },
  {
   "cell_type": "code",
   "execution_count": 32,
   "metadata": {},
   "outputs": [
    {
     "name": "stdin",
     "output_type": "stream",
     "text": [
      "String to add to end of my_str:  hello friends how are you doing\n"
     ]
    },
    {
     "name": "stdout",
     "output_type": "stream",
     "text": [
      "This String was not Chosen Arbitrarily...\n"
     ]
    }
   ],
   "source": [
    "#I\n",
    "user_input = input('String to add to end of my_str: ')\n",
    "\n",
    "my_str = 'This String was not Chosen Arbitrarily...'\n",
    "\n",
    "if len(user_input) <10:\n",
    "    my_str+=user_input\n",
    "print(my_str)"
   ]
  },
  {
   "cell_type": "markdown",
   "metadata": {},
   "source": [
    "2. List Warm-up\n",
    "    1. Look at the code in `warmup2.py`. What is going to be printed to the console? Change the print statement so that the first element in `my_list`, `1`, is printed. What's the reason that we have to make this change?\n",
    "    2. Now change the print statement so that only the words `\"hello\"`, `\"there\"`, and `\"list\"` are grabbed from `my_list` and printed. You should do this with indexing. What do you expect the type of the thing that is printed to be?\n",
    "    3. Put a line between lines 1 and 2 that adds the number `4` to the end of `my_list`.\n",
    "    4. Change the print statement so that only the numbers in `my_list` are printed. Again, do this with indexing.\n",
    "    5. Add another line after the one with `append()` that [removes](https://docs.python.org/3/tutorial/datastructures.html) the word \"list\" from `my_list`. What do you think `my_list` looks like now? Print it to check.\n",
    "    6. Now, using indexing, print only the elements in `my_list` at odd indices. You should see: `['hello', 'there', 4]` Is this what you'd expect? If not, consider how you've transformed `my_list`, and convince yourself that this makes sense.\n",
    "    7. Remove the lines that modify `my_list`. Now add the line `user_input = input('Add the number 4 to mylist (y/n)? ')` at the top of `warmup2.py`. Modify the rest of `warmup2.py` so that if the user inputs a `y`, it will add the number 4 to the end of `my_list`, and otherwise it will do nothing. At the end, print `my_list`. Play around with different inputs. Do they work the way you'd expect?\n",
    "    8. Modify `warmup2.py` so that it will accept any user inputted string. If the length of that string is less than 8, your script should add it to `my_list`, and other wise it should add the number 4 to the list. Print `my_list` at the end to see what it is.\n"
   ]
  },
  {
   "cell_type": "code",
   "execution_count": 35,
   "metadata": {},
   "outputs": [
    {
     "name": "stdout",
     "output_type": "stream",
     "text": [
      "1\n"
     ]
    }
   ],
   "source": [
    "# %load warmups/warmup2.py\n",
    "my_list = [1, 'hello', 2, 'there', 3, 'list']\n",
    "print(my_list[0])\n"
   ]
  },
  {
   "cell_type": "markdown",
   "metadata": {},
   "source": [
    "#A \n",
    "List indexes start in 0"
   ]
  },
  {
   "cell_type": "code",
   "execution_count": 36,
   "metadata": {},
   "outputs": [
    {
     "name": "stdout",
     "output_type": "stream",
     "text": [
      "hello there list\n"
     ]
    }
   ],
   "source": [
    "#B\n",
    "print(my_list[1], my_list[3], my_list[5])"
   ]
  },
  {
   "cell_type": "code",
   "execution_count": 37,
   "metadata": {},
   "outputs": [
    {
     "name": "stdout",
     "output_type": "stream",
     "text": [
      "[1, 'hello', 2, 'there', 3, 'list', 4]\n"
     ]
    }
   ],
   "source": [
    "#C\n",
    "my_list = [1, 'hello', 2, 'there', 3, 'list']\n",
    "my_list.append(4)\n",
    "print(my_list)"
   ]
  },
  {
   "cell_type": "code",
   "execution_count": 38,
   "metadata": {},
   "outputs": [
    {
     "name": "stdout",
     "output_type": "stream",
     "text": [
      "1 2 3 4\n"
     ]
    }
   ],
   "source": [
    "#D\n",
    "print(my_list[0], my_list[2], my_list[4], my_list[6])"
   ]
  },
  {
   "cell_type": "code",
   "execution_count": 40,
   "metadata": {},
   "outputs": [
    {
     "name": "stdout",
     "output_type": "stream",
     "text": [
      "[1, 'hello', 2, 'there', 3, 4]\n"
     ]
    }
   ],
   "source": [
    "#E\n",
    "my_list.remove('list')\n",
    "print(my_list)\n"
   ]
  },
  {
   "cell_type": "code",
   "execution_count": 41,
   "metadata": {},
   "outputs": [
    {
     "name": "stdout",
     "output_type": "stream",
     "text": [
      "hello there 4\n"
     ]
    }
   ],
   "source": [
    "#F\n",
    "print(my_list[1], my_list[3], my_list[5])"
   ]
  },
  {
   "cell_type": "code",
   "execution_count": 46,
   "metadata": {},
   "outputs": [
    {
     "name": "stdin",
     "output_type": "stream",
     "text": [
      "Add the number 4 to mylist (y/n)?  y\n"
     ]
    },
    {
     "name": "stdout",
     "output_type": "stream",
     "text": [
      "[1, 'hello', 2, 'there', 3, 'list', 4]\n"
     ]
    }
   ],
   "source": [
    "#G\n",
    "my_list = [1, 'hello', 2, 'there', 3, 'list']\n",
    "\n",
    "user_input = input('Add the number 4 to mylist (y/n)? ')\n",
    "\n",
    "if user_input == 'y':\n",
    "    my_list.append(4)\n",
    "    \n",
    "print(my_list)"
   ]
  },
  {
   "cell_type": "code",
   "execution_count": 49,
   "metadata": {},
   "outputs": [
    {
     "name": "stdin",
     "output_type": "stream",
     "text": [
      "Number to add to my list:  838292922222\n"
     ]
    },
    {
     "name": "stdout",
     "output_type": "stream",
     "text": [
      "[1, 'hello', 2, 'there', 3, 'list', 4]\n"
     ]
    }
   ],
   "source": [
    "#H\n",
    "my_list = [1, 'hello', 2, 'there', 3, 'list']\n",
    "\n",
    "user_input = input('Number to add to my list: ')\n",
    "\n",
    "if len(user_input)<8:\n",
    "    my_list.append(user_input)\n",
    "else:\n",
    "    my_list.append(4)\n",
    "    \n",
    "print(my_list)"
   ]
  },
  {
   "cell_type": "markdown",
   "metadata": {},
   "source": [
    "3. For Loop Warm-up\n",
    "    1. Look at the code in `warmup3.py`. As in `warmup2.py`, we are printing a list. This time, though, it is displayed differently. What do you think will be printed to the console? Why does it look like this, as opposed to the format we saw in `warmup2.py`?\n",
    "    2. Change the code in `warmup3.py` so that it also prints the indices of the elements in `my_list`.\n",
    "    3. Add an `if` to the for loop so that only the elements at odd indices are printed, along with their index.\n",
    "    4. Change your if statement to only print the elements that are longer than 4 characters, again along with their index. Why can you just `len()` to do this?\n",
    "    5. Now, instead of just printing the elements to the console, change the script so that it adds the elements that are longer than 4 characters to a new list, called `longer_elements`. This means that you will have to create an empty list with that name before the list. Print `longer_elements` at the end of the script.\n",
    "    6. Try printing `longer_elements` inside the for loop you created above. What do you expect to see when you run your script? Make sure you understand why you're getting this output.\n",
    "    7. Add the line `user_number = int(input('Min length to be printed: '))` to the top of `warmup3.py`. Now, change your script so that it only adds words that are longer than a user inputted number to `longer_elements`. You can include the statement printing `longer_elements` inside the loop if you want. Print `longer_elements` after the loop."
   ]
  },
  {
   "cell_type": "code",
   "execution_count": 51,
   "metadata": {},
   "outputs": [
    {
     "name": "stdout",
     "output_type": "stream",
     "text": [
      "hello\n",
      "there\n",
      "python\n",
      "['l', 'i', 's', 't']\n",
      "!\n"
     ]
    }
   ],
   "source": [
    "# %load warmups/warmup3.py\n",
    "my_list = ['hello', 'there', 'python', list('list'), '!']\n",
    "for element in my_list:\n",
    "    print(element)\n"
   ]
  },
  {
   "cell_type": "code",
   "execution_count": 52,
   "metadata": {},
   "outputs": [],
   "source": [
    "#A - one value from the list is another list"
   ]
  },
  {
   "cell_type": "code",
   "execution_count": 58,
   "metadata": {},
   "outputs": [
    {
     "name": "stdout",
     "output_type": "stream",
     "text": [
      "0 hello\n",
      "1 there\n",
      "2 python\n",
      "3 ['l', 'i', 's', 't']\n",
      "4 !\n"
     ]
    }
   ],
   "source": [
    "#B\n",
    "my_list = ['hello', 'there', 'python', list('list'), '!']\n",
    "for element in my_list:\n",
    "    print(my_list.index(element), element)\n",
    "    #print()"
   ]
  },
  {
   "cell_type": "code",
   "execution_count": 63,
   "metadata": {},
   "outputs": [
    {
     "name": "stdout",
     "output_type": "stream",
     "text": [
      "1 there\n",
      "3 ['l', 'i', 's', 't']\n"
     ]
    }
   ],
   "source": [
    "#C\n",
    "for element in my_list:\n",
    "    if my_list.index(element) %2 == 1:\n",
    "        print(my_list.index(element), element)"
   ]
  },
  {
   "cell_type": "code",
   "execution_count": 66,
   "metadata": {},
   "outputs": [
    {
     "name": "stdout",
     "output_type": "stream",
     "text": [
      "1 there\n"
     ]
    }
   ],
   "source": [
    "#D\n",
    "for element in my_list:\n",
    "    if my_list.index(element) %2 == 1:\n",
    "        if len(element)>4:\n",
    "            print(my_list.index(element), element)"
   ]
  },
  {
   "cell_type": "code",
   "execution_count": 72,
   "metadata": {},
   "outputs": [
    {
     "name": "stdout",
     "output_type": "stream",
     "text": [
      "['hello', 'there', 'python']\n"
     ]
    }
   ],
   "source": [
    "#E\n",
    "longer_elements= list()\n",
    "\n",
    "for element in my_list:\n",
    "    if len(element)>4:\n",
    "        longer_elements.append(element)\n",
    "            \n",
    "print(longer_elements)"
   ]
  },
  {
   "cell_type": "code",
   "execution_count": 73,
   "metadata": {},
   "outputs": [
    {
     "name": "stdout",
     "output_type": "stream",
     "text": [
      "hello\n",
      "there\n",
      "python\n"
     ]
    }
   ],
   "source": [
    "#F  I expect to see the elements that are longer than 4 characters\n",
    "for i in longer_elements:\n",
    "    print(i)"
   ]
  },
  {
   "cell_type": "code",
   "execution_count": 77,
   "metadata": {},
   "outputs": [
    {
     "name": "stdin",
     "output_type": "stream",
     "text": [
      "Min length to be printed:  5\n"
     ]
    },
    {
     "name": "stdout",
     "output_type": "stream",
     "text": [
      "['python']\n"
     ]
    }
   ],
   "source": [
    "#G\n",
    "user_number = int(input('Min length to be printed: '))\n",
    "longer_elements = []\n",
    "\n",
    "for element in my_list:\n",
    "    if len(element)>user_number:\n",
    "        longer_elements.append(element)\n",
    "            \n",
    "print(longer_elements)"
   ]
  },
  {
   "cell_type": "markdown",
   "metadata": {},
   "source": [
    "### Part 1 - Practice with `For` Loops\n",
    "\n",
    "For the first part here, take a couple of the scripts we wrote in the `intro_python_assignment.md`, and change them from using `while` loops to using `for` loops. Start out and just do the first two (for extra practice you could do this with the rest of the problems we worked through):  \n",
    "\n",
    "1. Write a script that computes and prints the factorial of a user inputted number.\n",
    "2. Write a script that determines whether or not a user inputted number is a prime and prints 'The number you inputted is a prime/ not a prime number.' depending on what your script finds.\n",
    "\n",
    "Remember, the goal is to write these by using `for` loops."
   ]
  },
  {
   "cell_type": "code",
   "execution_count": 79,
   "metadata": {},
   "outputs": [
    {
     "name": "stdin",
     "output_type": "stream",
     "text": [
      " 5\n"
     ]
    },
    {
     "name": "stdout",
     "output_type": "stream",
     "text": [
      "120\n"
     ]
    }
   ],
   "source": [
    "#1.\n",
    "n = int(input())\n",
    "total = 1\n",
    "\n",
    "\n",
    "for i in range(1,n+1):\n",
    "    total*=i\n",
    "    \n",
    "print(total)"
   ]
  },
  {
   "cell_type": "code",
   "execution_count": 80,
   "metadata": {},
   "outputs": [
    {
     "name": "stdin",
     "output_type": "stream",
     "text": [
      " 10\n"
     ]
    },
    {
     "name": "stdout",
     "output_type": "stream",
     "text": [
      "10 is not a prime number\n"
     ]
    }
   ],
   "source": [
    "#2.\n",
    "\n",
    "num = int(input())\n",
    "\n",
    "if num > 1:  \n",
    "   for i in range(2, num//2):  \n",
    "       if (num % i) == 0: \n",
    "           print(num, \"is not a prime number\") \n",
    "           break\n",
    "   else: \n",
    "       print(\"The number you inputted is a prime number.\") \n",
    "  \n",
    "else: \n",
    "   print(\"The number you inputted is not a prime number.\") "
   ]
  },
  {
   "cell_type": "markdown",
   "metadata": {},
   "source": [
    "### Part 2 - Practice with Strings\n",
    "\n",
    "Now you're going to work with strings, along with your knowledge of `for` loops and iteration. Remember that you can tab complete to find helpful methods that you can use to operate on strings! For some of these problems, you may not use anything new, but for others, there may be a helpful string method. As a last note, just like with many programming problems, there will be multiple ways to solve these problems.\n",
    "\n",
    "1. Write a script that counts the occurrences of a user inputted letter in a string that is also inputted by the user. (**Hint**: Use `input()` twice to get both of the user inputs). Make sure to build this in such a way that it ignores the case of the inputted string and letter. For example if the user inputs `c`, and the string `Chelsea likes candy` your script should print 2.\n",
    "2. Write a script that checks if a user inputted string ends in an exclamation point. **If it does**, then print the string in all capital letters. **If it doesn't**, print the string in all lowercase letters.  \n",
    "3. Write a script that removes all of the vowels in a user inputted string.\n",
    "4. Write a script that makes every other letter of a user inputted string capitalized."
   ]
  },
  {
   "cell_type": "code",
   "execution_count": 96,
   "metadata": {},
   "outputs": [
    {
     "name": "stdin",
     "output_type": "stream",
     "text": [
      "Give me a string JessicA Zuniga\n",
      "Give me the letter to check a\n"
     ]
    },
    {
     "name": "stdout",
     "output_type": "stream",
     "text": [
      "letter a appears:  2 times in the string\n"
     ]
    }
   ],
   "source": [
    "x, y = input('Give me a string').lower(), input('Give me the letter to check').lower()\n",
    "\n",
    "print('letter',y, 'appears: ', x.count(y), 'times in the string')"
   ]
  },
  {
   "cell_type": "code",
   "execution_count": 3,
   "metadata": {},
   "outputs": [
    {
     "name": "stdin",
     "output_type": "stream",
     "text": [
      " Jessica!\n"
     ]
    },
    {
     "name": "stdout",
     "output_type": "stream",
     "text": [
      "JESSICA!\n"
     ]
    }
   ],
   "source": [
    "x = input()\n",
    "\n",
    "last_char = x[-1]\n",
    "\n",
    "if last_char =='!':\n",
    "    print(x.upper())\n",
    "else:\n",
    "    print(x.lower())"
   ]
  },
  {
   "cell_type": "code",
   "execution_count": 10,
   "metadata": {},
   "outputs": [
    {
     "name": "stdin",
     "output_type": "stream",
     "text": [
      " jessica\n"
     ]
    },
    {
     "name": "stdout",
     "output_type": "stream",
     "text": [
      "jssc\n"
     ]
    }
   ],
   "source": [
    "vowels = 'aeiou'\n",
    "\n",
    "user_str= input()\n",
    "final_str =''\n",
    "\n",
    "for i in user_str:\n",
    "    if i.lower() not in vowels:\n",
    "        final_str+=i\n",
    "print(final_str)"
   ]
  },
  {
   "cell_type": "code",
   "execution_count": 11,
   "metadata": {},
   "outputs": [
    {
     "name": "stdin",
     "output_type": "stream",
     "text": [
      " jessica\n"
     ]
    },
    {
     "name": "stdout",
     "output_type": "stream",
     "text": [
      "JSSC\n"
     ]
    }
   ],
   "source": [
    "vowels = 'aeiou'\n",
    "\n",
    "user_str= input()\n",
    "final_str =''\n",
    "\n",
    "for i in user_str:\n",
    "    if i.lower() not in vowels:\n",
    "        final_str+=i\n",
    "print(final_str.upper())"
   ]
  },
  {
   "cell_type": "markdown",
   "metadata": {},
   "source": [
    "### Part 3 - Practice with Lists\n",
    "\n",
    "1. Write a script that creates a list of only the even numbers between 0 and a user inputted number.\n",
    "2. Write a script that creates a list of only numbers divisible by a user inputted number that are between 0 and a user inputted number (**Hint**: Use `input()` twice to get both of the user inputs).\n",
    "3. Given the list `[0, 3, 6, 9, 10, 2, 5]` and `[2, 6, 4, 7, 8, 1, 15]`, write a script that finds the common elements between them. Store them in a list, and print that list, sorted, as the final output (if you'd like you can go ahead and hard code those lists in your script).  \n",
    "4. For a user inputted number, write a script that outputs a list of multiples of that number from 0 up to another user inputted number. For example, given the numbers 4 and 20, your script should print the numbers 4, 8, 12, and 16.\n"
   ]
  },
  {
   "cell_type": "code",
   "execution_count": 13,
   "metadata": {},
   "outputs": [
    {
     "name": "stdin",
     "output_type": "stream",
     "text": [
      " 10\n"
     ]
    },
    {
     "name": "stdout",
     "output_type": "stream",
     "text": [
      "[0, 2, 4, 6, 8, 10]\n"
     ]
    }
   ],
   "source": [
    "#1\n",
    "y = int(input())\n",
    "lst = []\n",
    "\n",
    "for i in range(0,y+1):\n",
    "    if i%2 == 0 :\n",
    "        lst.append(i)\n",
    "print(lst)"
   ]
  },
  {
   "cell_type": "code",
   "execution_count": 18,
   "metadata": {},
   "outputs": [
    {
     "name": "stdin",
     "output_type": "stream",
     "text": [
      "limit 100\n",
      "div 8\n"
     ]
    },
    {
     "name": "stdout",
     "output_type": "stream",
     "text": [
      "[8, 16, 24, 32, 40, 48, 56, 64, 72, 80, 88, 96]\n"
     ]
    }
   ],
   "source": [
    "#2\n",
    "limit, div = int(input('limit')) , int(input('div'))\n",
    "lst = []\n",
    "\n",
    "for i in range(1,limit+1):\n",
    "    if i%div == 0:\n",
    "        lst.append(i)\n",
    "\n",
    "print(lst)\n",
    "        "
   ]
  },
  {
   "cell_type": "code",
   "execution_count": 21,
   "metadata": {},
   "outputs": [
    {
     "name": "stdout",
     "output_type": "stream",
     "text": [
      "[2, 6]\n"
     ]
    }
   ],
   "source": [
    "#3\n",
    "lst1 = [0, 3, 6, 9, 10, 2, 5]\n",
    "\n",
    "lst2= [2, 6, 4, 7, 8, 1, 15]\n",
    "\n",
    "lst3= []\n",
    "\n",
    "for i in lst1:\n",
    "    if i in lst2:\n",
    "        lst3.append(i)\n",
    "        lst3.sort()\n",
    "print(lst3)"
   ]
  },
  {
   "cell_type": "code",
   "execution_count": 32,
   "metadata": {},
   "outputs": [
    {
     "name": "stdin",
     "output_type": "stream",
     "text": [
      " 4\n",
      " 20\n"
     ]
    },
    {
     "name": "stdout",
     "output_type": "stream",
     "text": [
      "[4, 8, 12, 16]\n"
     ]
    }
   ],
   "source": [
    "#4\n",
    "a, b = int(input()), int(input())\n",
    "lst = []\n",
    "c = int(b/a)\n",
    "\n",
    "for i in range(1, c):\n",
    "    d= a*i\n",
    "    lst.append(d)\n",
    "print(lst)"
   ]
  },
  {
   "cell_type": "markdown",
   "metadata": {},
   "source": [
    "\n",
    "**Alter your script in Part 3, Question 3 to accept arbitrary lists. Build it such that the user has to enter 7 numbers (each separated by an enter at the command line) for each list.\n"
   ]
  },
  {
   "cell_type": "code",
   "execution_count": 44,
   "metadata": {},
   "outputs": [
    {
     "name": "stdin",
     "output_type": "stream",
     "text": [
      "Element: 1\n",
      "Element: 2\n",
      "Element: 3\n",
      "Element: 4\n",
      "Element: 5\n",
      "Element: 6\n",
      "Element: 7\n"
     ]
    },
    {
     "name": "stdout",
     "output_type": "stream",
     "text": [
      "\n",
      "elements of next list\n",
      "\n"
     ]
    },
    {
     "name": "stdin",
     "output_type": "stream",
     "text": [
      "Element: 22\n",
      "Element: 2\n",
      "Element: 33\n",
      "Element: 33\n",
      "Element: 4\n",
      "Element: 55\n",
      "Element: 6\n"
     ]
    },
    {
     "name": "stdout",
     "output_type": "stream",
     "text": [
      "[2, 4, 6]\n"
     ]
    }
   ],
   "source": [
    "### 3\n",
    "\n",
    "lst1 = []\n",
    "for i in range (0,7):\n",
    "    n = int(input('Element:'))\n",
    "    lst1.append(n)\n",
    "print('')\n",
    "print('elements of next list')\n",
    "print('')\n",
    "lst2= []\n",
    "for i in range (0,7):\n",
    "    k = int(input('Element:'))\n",
    "    lst2.append(k)\n",
    "   \n",
    "lst3= []\n",
    "\n",
    "for i in lst1:\n",
    "    if i in lst2:\n",
    "        lst3.append(i)\n",
    "        lst3.sort()\n",
    "print(lst3)"
   ]
  },
  {
   "cell_type": "code",
   "execution_count": null,
   "metadata": {},
   "outputs": [],
   "source": []
  }
 ],
 "metadata": {
  "kernelspec": {
   "display_name": "Python 3",
   "language": "python",
   "name": "python3"
  },
  "language_info": {
   "codemirror_mode": {
    "name": "ipython",
    "version": 3
   },
   "file_extension": ".py",
   "mimetype": "text/x-python",
   "name": "python",
   "nbconvert_exporter": "python",
   "pygments_lexer": "ipython3",
   "version": "3.7.3"
  }
 },
 "nbformat": 4,
 "nbformat_minor": 2
}
